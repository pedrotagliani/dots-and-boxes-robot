{
 "cells": [
  {
   "cell_type": "markdown",
   "id": "8c8c4e22",
   "metadata": {},
   "source": [
    "<h1 style='text-align:center; text-transform: uppercase; text-decoration: underline;'>Cinemática directa</h1>\n",
    "<br>\n",
    "<p style='font-size:15px;'><span style='text-decoration: underline;'>Materia</span>: Proyecto en Ingeniería Mecatrónica.</p>\n",
    "<p style='font-size:15px;'><span style='text-decoration: underline;'>Nombre del proyecto</span>: Robot Lúdico.</p>\n",
    "<p style='font-size:15px;'><span style='text-decoration: underline;'>Alumnos</span>: Daiana Belén Viscarra Hernández & Pedro Tagliani.</p>\n",
    "<br>\n",
    "<p style='font-size:15px;'><span style='text-decoration: underline;'>Detalles de la versión</span>: Se consideró el marcador en el efector final.</p>\n",
    "<br>"
   ]
  },
  {
   "cell_type": "markdown",
   "id": "0f4a8099",
   "metadata": {},
   "source": [
    "<h3>Librerías a utilizar:</h3>"
   ]
  },
  {
   "cell_type": "code",
   "execution_count": 1,
   "id": "e46452c0",
   "metadata": {},
   "outputs": [],
   "source": [
    "from spatialmath import *\n",
    "from spatialmath.base import *\n",
    "import matplotlib.pyplot as plt\n",
    "from math import pi, degrees, radians\n",
    "import numpy as np\n",
    "import sympy as sp\n",
    "from IPython.display import display\n",
    "\n",
    "%matplotlib qt"
   ]
  },
  {
   "cell_type": "markdown",
   "id": "22cbe66a",
   "metadata": {},
   "source": [
    "<h3>Cinemática Directa con algoritmo DH:</h3>"
   ]
  },
  {
   "cell_type": "code",
   "execution_count": 2,
   "id": "d023c0ac",
   "metadata": {},
   "outputs": [],
   "source": [
    "# Símbolos a utilizar:\n",
    "q1, q2, q3, q4, l1, l2, l3, l4, l5 = sp.symbols('q1 q2 q3 q4 l1 l2 l3 l4 l5')"
   ]
  },
  {
   "cell_type": "code",
   "execution_count": 3,
   "id": "bb92015a",
   "metadata": {},
   "outputs": [],
   "source": [
    "# Se extiende la SE3 para poder manejar variables en forma simbólica y numérica\n",
    "class SE3_extended(SE3):\n",
    "    def symbolReplace(self,symbol_values): # symbol_values --> Lista con tuplas de dos valores\n",
    "        aux = np.eye(self.A.shape[0]) # self.A.shape[0] --> Rows\n",
    "        # np.eye --> return a 2-D array with ones on the diagonal and zeros elsewhere\n",
    "        for i in range(self.A.shape[0]):\n",
    "            for j in range(self.A.shape[1]): # self.A.shape[1] --> Columns\n",
    "                try:\n",
    "                    aux[i,j] = self.A[i,j].subs(symbol_values).evalf()\n",
    "                except:\n",
    "                    pass\n",
    "        return SE3_extended(aux) # Se entrega aux como una instancia de la clase SE3_extended\n",
    "\n",
    "# Uso: objeto.symbolReplace([(simbolo1, valor_simbolo1),(simboloN, valor_simboloN)])"
   ]
  },
  {
   "cell_type": "code",
   "execution_count": 8,
   "id": "ce159b49",
   "metadata": {},
   "outputs": [
    {
     "name": "stdout",
     "output_type": "stream",
     "text": [
      "A01:\n",
      "  \u001b[38;5;1m1.0*cos(q1 - 1.5707963267949)\u001b[0m \u001b[38;5;1m-6.12323399573677e-17*sin(q1 - 1.5707963267949)\u001b[0m \u001b[38;5;1m1.0*sin(q1 - 1.5707963267949)\u001b[0m \u001b[38;5;4m0           \u001b[0m  \u001b[0m\n",
      "  \u001b[38;5;1m1.0*sin(q1 - 1.5707963267949)\u001b[0m \u001b[38;5;1m6.12323399573677e-17*cos(q1 - 1.5707963267949)\u001b[0m \u001b[38;5;1m-1.0*cos(q1 - 1.5707963267949)\u001b[0m \u001b[38;5;4m0           \u001b[0m  \u001b[0m\n",
      "  \u001b[38;5;1m0           \u001b[0m \u001b[38;5;1m1.00000000000000\u001b[0m \u001b[38;5;1m6.12323399573677e-17\u001b[0m \u001b[38;5;4m1.0*l1      \u001b[0m  \u001b[0m\n",
      "  \u001b[38;5;244m0           \u001b[0m \u001b[38;5;244m0           \u001b[0m \u001b[38;5;244m0           \u001b[0m \u001b[38;5;244m1.00000000000000\u001b[0m  \u001b[0m\n",
      "\n",
      "A12:\n",
      "  \u001b[38;5;1m1.0*cos(q2) \u001b[0m \u001b[38;5;1m-1.0*sin(q2)\u001b[0m \u001b[38;5;1m0           \u001b[0m \u001b[38;5;4m1.0*l2*cos(q2)\u001b[0m  \u001b[0m\n",
      "  \u001b[38;5;1m1.0*sin(q2) \u001b[0m \u001b[38;5;1m1.0*cos(q2) \u001b[0m \u001b[38;5;1m0           \u001b[0m \u001b[38;5;4m1.0*l2*sin(q2)\u001b[0m  \u001b[0m\n",
      "  \u001b[38;5;1m0           \u001b[0m \u001b[38;5;1m0           \u001b[0m \u001b[38;5;1m1.00000000000000\u001b[0m \u001b[38;5;4m0           \u001b[0m  \u001b[0m\n",
      "  \u001b[38;5;244m0           \u001b[0m \u001b[38;5;244m0           \u001b[0m \u001b[38;5;244m0           \u001b[0m \u001b[38;5;244m1.00000000000000\u001b[0m  \u001b[0m\n",
      "\n",
      "A23:\n",
      "  \u001b[38;5;1m1.0*cos(q3 - 2.19911485751286)\u001b[0m \u001b[38;5;1m-1.0*sin(q3 - 2.19911485751286)\u001b[0m \u001b[38;5;1m0           \u001b[0m \u001b[38;5;4m1.0*l3*cos(q3 - 2.19911485751286)\u001b[0m  \u001b[0m\n",
      "  \u001b[38;5;1m1.0*sin(q3 - 2.19911485751286)\u001b[0m \u001b[38;5;1m1.0*cos(q3 - 2.19911485751286)\u001b[0m \u001b[38;5;1m0           \u001b[0m \u001b[38;5;4m1.0*l3*sin(q3 - 2.19911485751286)\u001b[0m  \u001b[0m\n",
      "  \u001b[38;5;1m0           \u001b[0m \u001b[38;5;1m0           \u001b[0m \u001b[38;5;1m1.00000000000000\u001b[0m \u001b[38;5;4m0           \u001b[0m  \u001b[0m\n",
      "  \u001b[38;5;244m0           \u001b[0m \u001b[38;5;244m0           \u001b[0m \u001b[38;5;244m0           \u001b[0m \u001b[38;5;244m1.00000000000000\u001b[0m  \u001b[0m\n",
      "\n",
      "A34:\n",
      "  \u001b[38;5;1m1.0*cos(q4) \u001b[0m \u001b[38;5;1m-1.0*sin(q4)\u001b[0m \u001b[38;5;1m0           \u001b[0m \u001b[38;5;4m1.0*l4*cos(q4)\u001b[0m  \u001b[0m\n",
      "  \u001b[38;5;1m1.0*sin(q4) \u001b[0m \u001b[38;5;1m1.0*cos(q4) \u001b[0m \u001b[38;5;1m0           \u001b[0m \u001b[38;5;4m1.0*l4*sin(q4)\u001b[0m  \u001b[0m\n",
      "  \u001b[38;5;1m0           \u001b[0m \u001b[38;5;1m0           \u001b[0m \u001b[38;5;1m1.00000000000000\u001b[0m \u001b[38;5;4m0           \u001b[0m  \u001b[0m\n",
      "  \u001b[38;5;244m0           \u001b[0m \u001b[38;5;244m0           \u001b[0m \u001b[38;5;244m0           \u001b[0m \u001b[38;5;244m1.00000000000000\u001b[0m  \u001b[0m\n",
      "\n",
      "A45:\n",
      "  \u001b[38;5;1m 1       \u001b[0m \u001b[38;5;1m 0       \u001b[0m \u001b[38;5;1m 0       \u001b[0m \u001b[38;5;4m 0       \u001b[0m  \u001b[0m\n",
      "  \u001b[38;5;1m 0       \u001b[0m \u001b[38;5;1m 1       \u001b[0m \u001b[38;5;1m 0       \u001b[0m \u001b[38;5;4m-l5         \u001b[0m  \u001b[0m\n",
      "  \u001b[38;5;1m 0       \u001b[0m \u001b[38;5;1m 0       \u001b[0m \u001b[38;5;1m 1       \u001b[0m \u001b[38;5;4m 0       \u001b[0m  \u001b[0m\n",
      "  \u001b[38;5;244m 0       \u001b[0m \u001b[38;5;244m 0       \u001b[0m \u001b[38;5;244m 0       \u001b[0m \u001b[38;5;244m 1       \u001b[0m  \u001b[0m\n",
      "\n",
      "T:\n",
      "  \u001b[38;5;1m1.0*(-1.0*(-6.12323399573677e-17*sin(q2)*sin(q1 - 1.5707963267949) + 1.0*cos(q2)*cos(q1 - 1.5707963267949))*sin(q3 - 2.19911485751286) + 1.0*(-1.0*sin(q2)*cos(q1 - 1.5707963267949) - 6.12323399573677e-17*sin(q1 - 1.5707963267949)*cos(q2))*cos(q3 - 2.19911485751286))*sin(q4) + 1.0*(1.0*(-6.12323399573677e-17*sin(q2)*sin(q1 - 1.5707963267949) + 1.0*cos(q2)*cos(q1 - 1.5707963267949))*cos(q3 - 2.19911485751286) + 1.0*(-1.0*sin(q2)*cos(q1 - 1.5707963267949) - 6.12323399573677e-17*sin(q1 - 1.5707963267949)*cos(q2))*sin(q3 - 2.19911485751286))*cos(q4)\u001b[0m \u001b[38;5;1m1.0*(-1.0*(-6.12323399573677e-17*sin(q2)*sin(q1 - 1.5707963267949) + 1.0*cos(q2)*cos(q1 - 1.5707963267949))*sin(q3 - 2.19911485751286) + 1.0*(-1.0*sin(q2)*cos(q1 - 1.5707963267949) - 6.12323399573677e-17*sin(q1 - 1.5707963267949)*cos(q2))*cos(q3 - 2.19911485751286))*cos(q4) - 1.0*(1.0*(-6.12323399573677e-17*sin(q2)*sin(q1 - 1.5707963267949) + 1.0*cos(q2)*cos(q1 - 1.5707963267949))*cos(q3 - 2.19911485751286) + 1.0*(-1.0*sin(q2)*cos(q1 - 1.5707963267949) - 6.12323399573677e-17*sin(q1 - 1.5707963267949)*cos(q2))*sin(q3 - 2.19911485751286))*sin(q4)\u001b[0m \u001b[38;5;1m1.0*sin(q1 - 1.5707963267949)\u001b[0m \u001b[38;5;4m-6.12323399573677e-17*l2*sin(q2)*sin(q1 - 1.5707963267949) + 1.0*l2*cos(q2)*cos(q1 - 1.5707963267949) + 1.0*l3*(-6.12323399573677e-17*sin(q2)*sin(q1 - 1.5707963267949) + 1.0*cos(q2)*cos(q1 - 1.5707963267949))*cos(q3 - 2.19911485751286) + 1.0*l3*(-1.0*sin(q2)*cos(q1 - 1.5707963267949) - 6.12323399573677e-17*sin(q1 - 1.5707963267949)*cos(q2))*sin(q3 - 2.19911485751286) + 1.0*l4*(-1.0*(-6.12323399573677e-17*sin(q2)*sin(q1 - 1.5707963267949) + 1.0*cos(q2)*cos(q1 - 1.5707963267949))*sin(q3 - 2.19911485751286) + 1.0*(-1.0*sin(q2)*cos(q1 - 1.5707963267949) - 6.12323399573677e-17*sin(q1 - 1.5707963267949)*cos(q2))*cos(q3 - 2.19911485751286))*sin(q4) + 1.0*l4*(1.0*(-6.12323399573677e-17*sin(q2)*sin(q1 - 1.5707963267949) + 1.0*cos(q2)*cos(q1 - 1.5707963267949))*cos(q3 - 2.19911485751286) + 1.0*(-1.0*sin(q2)*cos(q1 - 1.5707963267949) - 6.12323399573677e-17*sin(q1 - 1.5707963267949)*cos(q2))*sin(q3 - 2.19911485751286))*cos(q4) - l5*(1.0*(-1.0*(-6.12323399573677e-17*sin(q2)*sin(q1 - 1.5707963267949) + 1.0*cos(q2)*cos(q1 - 1.5707963267949))*sin(q3 - 2.19911485751286) + 1.0*(-1.0*sin(q2)*cos(q1 - 1.5707963267949) - 6.12323399573677e-17*sin(q1 - 1.5707963267949)*cos(q2))*cos(q3 - 2.19911485751286))*cos(q4) - 1.0*(1.0*(-6.12323399573677e-17*sin(q2)*sin(q1 - 1.5707963267949) + 1.0*cos(q2)*cos(q1 - 1.5707963267949))*cos(q3 - 2.19911485751286) + 1.0*(-1.0*sin(q2)*cos(q1 - 1.5707963267949) - 6.12323399573677e-17*sin(q1 - 1.5707963267949)*cos(q2))*sin(q3 - 2.19911485751286))*sin(q4))\u001b[0m  \u001b[0m\n",
      "  \u001b[38;5;1m1.0*(1.0*(-1.0*sin(q2)*sin(q1 - 1.5707963267949) + 6.12323399573677e-17*cos(q2)*cos(q1 - 1.5707963267949))*sin(q3 - 2.19911485751286) + 1.0*(6.12323399573677e-17*sin(q2)*cos(q1 - 1.5707963267949) + 1.0*sin(q1 - 1.5707963267949)*cos(q2))*cos(q3 - 2.19911485751286))*cos(q4) + 1.0*(1.0*(-1.0*sin(q2)*sin(q1 - 1.5707963267949) + 6.12323399573677e-17*cos(q2)*cos(q1 - 1.5707963267949))*cos(q3 - 2.19911485751286) - 1.0*(6.12323399573677e-17*sin(q2)*cos(q1 - 1.5707963267949) + 1.0*sin(q1 - 1.5707963267949)*cos(q2))*sin(q3 - 2.19911485751286))*sin(q4)\u001b[0m \u001b[38;5;1m-1.0*(1.0*(-1.0*sin(q2)*sin(q1 - 1.5707963267949) + 6.12323399573677e-17*cos(q2)*cos(q1 - 1.5707963267949))*sin(q3 - 2.19911485751286) + 1.0*(6.12323399573677e-17*sin(q2)*cos(q1 - 1.5707963267949) + 1.0*sin(q1 - 1.5707963267949)*cos(q2))*cos(q3 - 2.19911485751286))*sin(q4) + 1.0*(1.0*(-1.0*sin(q2)*sin(q1 - 1.5707963267949) + 6.12323399573677e-17*cos(q2)*cos(q1 - 1.5707963267949))*cos(q3 - 2.19911485751286) - 1.0*(6.12323399573677e-17*sin(q2)*cos(q1 - 1.5707963267949) + 1.0*sin(q1 - 1.5707963267949)*cos(q2))*sin(q3 - 2.19911485751286))*cos(q4)\u001b[0m \u001b[38;5;1m-1.0*cos(q1 - 1.5707963267949)\u001b[0m \u001b[38;5;4m6.12323399573677e-17*l2*sin(q2)*cos(q1 - 1.5707963267949) + 1.0*l2*sin(q1 - 1.5707963267949)*cos(q2) + 1.0*l3*(-1.0*sin(q2)*sin(q1 - 1.5707963267949) + 6.12323399573677e-17*cos(q2)*cos(q1 - 1.5707963267949))*sin(q3 - 2.19911485751286) + 1.0*l3*(6.12323399573677e-17*sin(q2)*cos(q1 - 1.5707963267949) + 1.0*sin(q1 - 1.5707963267949)*cos(q2))*cos(q3 - 2.19911485751286) + 1.0*l4*(1.0*(-1.0*sin(q2)*sin(q1 - 1.5707963267949) + 6.12323399573677e-17*cos(q2)*cos(q1 - 1.5707963267949))*sin(q3 - 2.19911485751286) + 1.0*(6.12323399573677e-17*sin(q2)*cos(q1 - 1.5707963267949) + 1.0*sin(q1 - 1.5707963267949)*cos(q2))*cos(q3 - 2.19911485751286))*cos(q4) + 1.0*l4*(1.0*(-1.0*sin(q2)*sin(q1 - 1.5707963267949) + 6.12323399573677e-17*cos(q2)*cos(q1 - 1.5707963267949))*cos(q3 - 2.19911485751286) - 1.0*(6.12323399573677e-17*sin(q2)*cos(q1 - 1.5707963267949) + 1.0*sin(q1 - 1.5707963267949)*cos(q2))*sin(q3 - 2.19911485751286))*sin(q4) - l5*(-1.0*(1.0*(-1.0*sin(q2)*sin(q1 - 1.5707963267949) + 6.12323399573677e-17*cos(q2)*cos(q1 - 1.5707963267949))*sin(q3 - 2.19911485751286) + 1.0*(6.12323399573677e-17*sin(q2)*cos(q1 - 1.5707963267949) + 1.0*sin(q1 - 1.5707963267949)*cos(q2))*cos(q3 - 2.19911485751286))*sin(q4) + 1.0*(1.0*(-1.0*sin(q2)*sin(q1 - 1.5707963267949) + 6.12323399573677e-17*cos(q2)*cos(q1 - 1.5707963267949))*cos(q3 - 2.19911485751286) - 1.0*(6.12323399573677e-17*sin(q2)*cos(q1 - 1.5707963267949) + 1.0*sin(q1 - 1.5707963267949)*cos(q2))*sin(q3 - 2.19911485751286))*cos(q4))\u001b[0m  \u001b[0m\n",
      "  \u001b[38;5;1m1.0*(-1.0*sin(q2)*sin(q3 - 2.19911485751286) + 1.0*cos(q2)*cos(q3 - 2.19911485751286))*sin(q4) + 1.0*(1.0*sin(q2)*cos(q3 - 2.19911485751286) + 1.0*sin(q3 - 2.19911485751286)*cos(q2))*cos(q4)\u001b[0m \u001b[38;5;1m1.0*(-1.0*sin(q2)*sin(q3 - 2.19911485751286) + 1.0*cos(q2)*cos(q3 - 2.19911485751286))*cos(q4) - 1.0*(1.0*sin(q2)*cos(q3 - 2.19911485751286) + 1.0*sin(q3 - 2.19911485751286)*cos(q2))*sin(q4)\u001b[0m \u001b[38;5;1m6.12323399573677e-17\u001b[0m \u001b[38;5;4m1.0*l1 + 1.0*l2*sin(q2) + 1.0*l3*sin(q2)*cos(q3 - 2.19911485751286) + 1.0*l3*sin(q3 - 2.19911485751286)*cos(q2) + 1.0*l4*(-1.0*sin(q2)*sin(q3 - 2.19911485751286) + 1.0*cos(q2)*cos(q3 - 2.19911485751286))*sin(q4) + 1.0*l4*(1.0*sin(q2)*cos(q3 - 2.19911485751286) + 1.0*sin(q3 - 2.19911485751286)*cos(q2))*cos(q4) - l5*(1.0*(-1.0*sin(q2)*sin(q3 - 2.19911485751286) + 1.0*cos(q2)*cos(q3 - 2.19911485751286))*cos(q4) - 1.0*(1.0*sin(q2)*cos(q3 - 2.19911485751286) + 1.0*sin(q3 - 2.19911485751286)*cos(q2))*sin(q4))\u001b[0m  \u001b[0m\n",
      "  \u001b[38;5;244m0           \u001b[0m \u001b[38;5;244m0           \u001b[0m \u001b[38;5;244m0           \u001b[0m \u001b[38;5;244m1.00000000000000\u001b[0m  \u001b[0m\n",
      "\n"
     ]
    }
   ],
   "source": [
    "# Con la tabla de parámetros DH ya completada, se arman cada una de las MTH:\n",
    "A01 = SE3_extended.Rz(q1  - radians(90)) * SE3_extended.Tz(l1) * SE3_extended.Tx(0) * SE3_extended.Rx(radians(90))\n",
    "A12 = SE3_extended.Rz(q2) * SE3_extended.Tz(0) * SE3_extended.Tx(l2) * SE3_extended.Rx(0)\n",
    "A23 = SE3_extended.Rz(q3  - radians(126)) * SE3_extended.Tz(0) * SE3_extended.Tx(l3) * SE3_extended.Rx(0)\n",
    "A34 = SE3_extended.Rz(q4) * SE3_extended.Tz(0) * SE3_extended.Tx(l4) * SE3_extended.Rx(0)\n",
    "A45 = SE3_extended.Ty(-l5) # Se traslada hacia la punta del marcador\n",
    "T = A01 * A12 * A23 * A34 * A45\n",
    "\n",
    "\n",
    "print('A01:')\n",
    "A01.print()\n",
    "\n",
    "print('A12:')\n",
    "A12.print()\n",
    "\n",
    "print('A23:')\n",
    "A23.print()\n",
    "\n",
    "print('A34:')\n",
    "A34.print()\n",
    "\n",
    "print('A45:')\n",
    "A45.print()\n",
    "\n",
    "print('T:')\n",
    "T.print()\n",
    "\n",
    "# Se adaptaron los cálculos de cinemática directa para que se puedan usar los servomotores MG996, los cuales solo recorren 180°\n",
    "# Lo que se hizo fue desplazar cada uno de los 0° para que los movimientos sean compatibles con los servomotores\n",
    "# Esto es importante porque si, por ejemplo, el servomotor tiene que retroceder 20° pero físicamente está en la posición de 0°, no podría realizar esa acción porque está por fuera de su rango de 0° a 180°\n",
    "# Por ese motivo, es clave posicionarlos de forma adecuada para que el brazo pueda llegar a todos los movimientos solicitados\n",
    "\n",
    "# La posición de 0° para cada q corresponde al segundo dibujo de cinemática directa que hice para el brazo\n",
    "# A q1 se le resto -90° para que el barrido de 180° ocupe toda la parte frontal\n",
    "# A q2 no es necesario modificarlo porque el rango de los 180° es el indicado. Si se lo baja más en sentido horario, el brazo podría chocar contra la base\n",
    "# A q3 se le restó 126° para que el barrido de 180° comience en 0° en la posición de home para así poder aprovechar todo el intervalo\n",
    "# A q4 no es necesario modificarlo porque el rango de grados es el adecuado para el servomotor\n",
    "\n",
    "# El 126° para q3 sale de los 36° que obtuvimos para acomodar bien el brazo en los 0° que queríamos"
   ]
  },
  {
   "cell_type": "code",
   "execution_count": 9,
   "id": "fdd616df",
   "metadata": {},
   "outputs": [],
   "source": [
    "# Se les dan valores a las variables simbólicas:\n",
    "A01_eval = A01.symbolReplace([(q1,radians(90.0)),(l1,14.085)])\n",
    "A12_eval = A12.symbolReplace([(q2,radians(80.0)),(l2,12.725)])\n",
    "A23_eval = A23.symbolReplace([(q3,radians(0.0)),(l3,10.222)])\n",
    "A34_eval = A34.symbolReplace([(q4,radians(120.0)),(l4,11.200)])\n",
    "A45_eval = A45.symbolReplace([(l5,7.400)])\n",
    "\n",
    "# Posición del brazo en home para la configuración actual:\n",
    "# q1: 90° (el brazo queda recto en la mitad de la pizarra)\n",
    "# q2: 80° (el primer eslabón del brazo queda vertical)\n",
    "# q3: 0°\n",
    "# q4: 120° (donde el ángulo de pitch va a dar 0° por el q3 seteado)"
   ]
  },
  {
   "cell_type": "code",
   "execution_count": 10,
   "id": "25465fb5",
   "metadata": {},
   "outputs": [
    {
     "name": "stdout",
     "output_type": "stream",
     "text": [
      "S0:\n",
      "  \u001b[38;5;1m 1       \u001b[0m \u001b[38;5;1m 0       \u001b[0m \u001b[38;5;1m 0       \u001b[0m \u001b[38;5;4m 0       \u001b[0m  \u001b[0m\n",
      "  \u001b[38;5;1m 0       \u001b[0m \u001b[38;5;1m 1       \u001b[0m \u001b[38;5;1m 0       \u001b[0m \u001b[38;5;4m 0       \u001b[0m  \u001b[0m\n",
      "  \u001b[38;5;1m 0       \u001b[0m \u001b[38;5;1m 0       \u001b[0m \u001b[38;5;1m 1       \u001b[0m \u001b[38;5;4m 0       \u001b[0m  \u001b[0m\n",
      "  \u001b[38;5;244m 0       \u001b[0m \u001b[38;5;244m 0       \u001b[0m \u001b[38;5;244m 0       \u001b[0m \u001b[38;5;244m 1       \u001b[0m  \u001b[0m\n",
      "\n",
      "S1:\n",
      "  \u001b[38;5;1m 1       \u001b[0m \u001b[38;5;1m 0       \u001b[0m \u001b[38;5;1m 0       \u001b[0m \u001b[38;5;4m 0       \u001b[0m  \u001b[0m\n",
      "  \u001b[38;5;1m 0       \u001b[0m \u001b[38;5;1m 0       \u001b[0m \u001b[38;5;1m-1       \u001b[0m \u001b[38;5;4m 0       \u001b[0m  \u001b[0m\n",
      "  \u001b[38;5;1m 0       \u001b[0m \u001b[38;5;1m 1       \u001b[0m \u001b[38;5;1m 0       \u001b[0m \u001b[38;5;4m 14.09   \u001b[0m  \u001b[0m\n",
      "  \u001b[38;5;244m 0       \u001b[0m \u001b[38;5;244m 0       \u001b[0m \u001b[38;5;244m 0       \u001b[0m \u001b[38;5;244m 1       \u001b[0m  \u001b[0m\n",
      "\n",
      "S2:\n",
      "  \u001b[38;5;1m 0.1736  \u001b[0m \u001b[38;5;1m-0.9848  \u001b[0m \u001b[38;5;1m 0       \u001b[0m \u001b[38;5;4m 2.21    \u001b[0m  \u001b[0m\n",
      "  \u001b[38;5;1m 0       \u001b[0m \u001b[38;5;1m 0       \u001b[0m \u001b[38;5;1m-1       \u001b[0m \u001b[38;5;4m 0       \u001b[0m  \u001b[0m\n",
      "  \u001b[38;5;1m 0.9848  \u001b[0m \u001b[38;5;1m 0.1736  \u001b[0m \u001b[38;5;1m 0       \u001b[0m \u001b[38;5;4m 26.62   \u001b[0m  \u001b[0m\n",
      "  \u001b[38;5;244m 0       \u001b[0m \u001b[38;5;244m 0       \u001b[0m \u001b[38;5;244m 0       \u001b[0m \u001b[38;5;244m 1       \u001b[0m  \u001b[0m\n",
      "\n",
      "S3:\n",
      "  \u001b[38;5;1m 0.6947  \u001b[0m \u001b[38;5;1m 0.7193  \u001b[0m \u001b[38;5;1m 0       \u001b[0m \u001b[38;5;4m 9.31    \u001b[0m  \u001b[0m\n",
      "  \u001b[38;5;1m 0       \u001b[0m \u001b[38;5;1m 0       \u001b[0m \u001b[38;5;1m-1       \u001b[0m \u001b[38;5;4m 0       \u001b[0m  \u001b[0m\n",
      "  \u001b[38;5;1m-0.7193  \u001b[0m \u001b[38;5;1m 0.6947  \u001b[0m \u001b[38;5;1m 0       \u001b[0m \u001b[38;5;4m 19.26   \u001b[0m  \u001b[0m\n",
      "  \u001b[38;5;244m 0       \u001b[0m \u001b[38;5;244m 0       \u001b[0m \u001b[38;5;244m 0       \u001b[0m \u001b[38;5;244m 1       \u001b[0m  \u001b[0m\n",
      "\n",
      "S4:\n",
      "  \u001b[38;5;1m 0.2756  \u001b[0m \u001b[38;5;1m-0.9613  \u001b[0m \u001b[38;5;1m 0       \u001b[0m \u001b[38;5;4m 12.4    \u001b[0m  \u001b[0m\n",
      "  \u001b[38;5;1m 0       \u001b[0m \u001b[38;5;1m 0       \u001b[0m \u001b[38;5;1m-1       \u001b[0m \u001b[38;5;4m 0       \u001b[0m  \u001b[0m\n",
      "  \u001b[38;5;1m 0.9613  \u001b[0m \u001b[38;5;1m 0.2756  \u001b[0m \u001b[38;5;1m 0       \u001b[0m \u001b[38;5;4m 30.03   \u001b[0m  \u001b[0m\n",
      "  \u001b[38;5;244m 0       \u001b[0m \u001b[38;5;244m 0       \u001b[0m \u001b[38;5;244m 0       \u001b[0m \u001b[38;5;244m 1       \u001b[0m  \u001b[0m\n",
      "\n",
      "S5:\n",
      "  \u001b[38;5;1m 0.2756  \u001b[0m \u001b[38;5;1m-0.9613  \u001b[0m \u001b[38;5;1m 0       \u001b[0m \u001b[38;5;4m 19.51   \u001b[0m  \u001b[0m\n",
      "  \u001b[38;5;1m 0       \u001b[0m \u001b[38;5;1m 0       \u001b[0m \u001b[38;5;1m-1       \u001b[0m \u001b[38;5;4m 0       \u001b[0m  \u001b[0m\n",
      "  \u001b[38;5;1m 0.9613  \u001b[0m \u001b[38;5;1m 0.2756  \u001b[0m \u001b[38;5;1m 0       \u001b[0m \u001b[38;5;4m 27.99   \u001b[0m  \u001b[0m\n",
      "  \u001b[38;5;244m 0       \u001b[0m \u001b[38;5;244m 0       \u001b[0m \u001b[38;5;244m 0       \u001b[0m \u001b[38;5;244m 1       \u001b[0m  \u001b[0m\n",
      "\n"
     ]
    }
   ],
   "source": [
    "S0 = SE3_extended()\n",
    "S1 = S0 * A01_eval\n",
    "S2 = S1 * A12_eval\n",
    "S3 = S2 * A23_eval\n",
    "S4 = S3 * A34_eval\n",
    "S5 = S4 * A45_eval\n",
    "\n",
    "print('S0:')\n",
    "print(S0)\n",
    "\n",
    "print('S1:')\n",
    "print(S1)\n",
    "\n",
    "print('S2:')\n",
    "print(S2)\n",
    "\n",
    "print('S3:')\n",
    "print(S3)\n",
    "\n",
    "print('S4:')\n",
    "print(S4)\n",
    "\n",
    "print('S5:')\n",
    "print(S5)"
   ]
  },
  {
   "cell_type": "code",
   "execution_count": 16,
   "id": "c63a4da1",
   "metadata": {
    "scrolled": false
   },
   "outputs": [
    {
     "data": {
      "text/plain": [
       "<Axes3D: xlabel='X', ylabel='Y', zlabel='Z'>"
      ]
     },
     "execution_count": 16,
     "metadata": {},
     "output_type": "execute_result"
    }
   ],
   "source": [
    "# https://bdaiinstitute.github.io/spatialmath-python/func_3d.html#spatialmath.base.transforms3d.trplot\n",
    "\n",
    "limit = 50\n",
    "\n",
    "trplot(S0.A, frame='0', dims = [0, limit, -limit, limit, 0, limit], length = 5, color  = 'red')\n",
    "trplot(S1.A, frame='1', dims = [0, limit, -limit, limit, 0, limit], length = 5, color  = 'green')\n",
    "trplot(S2.A, frame='2', dims = [0, limit, -limit, limit, 0, limit], length = 5, color  = 'black')\n",
    "trplot(S3.A, frame='3', dims = [0, limit, -limit, limit, 0, limit], length = 5, color  = 'blue')\n",
    "trplot(S4.A, frame='4', dims = [0, limit, -limit, limit, 0, limit], length = 5, color = 'orange')\n",
    "trplot(S5.A, frame='5', dims = [0, limit, -limit, limit, 0, limit], length = 5, color = 'violet')"
   ]
  },
  {
   "cell_type": "code",
   "execution_count": 17,
   "id": "07768c94",
   "metadata": {},
   "outputs": [
    {
     "name": "stdout",
     "output_type": "stream",
     "text": [
      "Matriz de transformación homogénea de {S5} respecto del sistema {S0}:\n",
      "  \u001b[38;5;1m 0.2756  \u001b[0m \u001b[38;5;1m-0.9613  \u001b[0m \u001b[38;5;1m 0       \u001b[0m \u001b[38;5;4m 19.51   \u001b[0m  \u001b[0m\n",
      "  \u001b[38;5;1m 0       \u001b[0m \u001b[38;5;1m 0       \u001b[0m \u001b[38;5;1m-1       \u001b[0m \u001b[38;5;4m 0       \u001b[0m  \u001b[0m\n",
      "  \u001b[38;5;1m 0.9613  \u001b[0m \u001b[38;5;1m 0.2756  \u001b[0m \u001b[38;5;1m 0       \u001b[0m \u001b[38;5;4m 27.99   \u001b[0m  \u001b[0m\n",
      "  \u001b[38;5;244m 0       \u001b[0m \u001b[38;5;244m 0       \u001b[0m \u001b[38;5;244m 0       \u001b[0m \u001b[38;5;244m 1       \u001b[0m  \u001b[0m\n",
      "\n"
     ]
    }
   ],
   "source": [
    "# Pose del efector final para las configuraciones articulares planteadas:\n",
    "print('Matriz de transformación homogénea de {S5} respecto del sistema {S0}:')\n",
    "print(S5)"
   ]
  },
  {
   "cell_type": "code",
   "execution_count": 18,
   "id": "115825c6",
   "metadata": {},
   "outputs": [
    {
     "name": "stdout",
     "output_type": "stream",
     "text": [
      "Posición del efector final respecto de la terna base:\n",
      "- Px = 19.51\n",
      "- Py = 0.0\n",
      "- Pz = 27.99\n"
     ]
    }
   ],
   "source": [
    "# De la MTH T obtengo el vector de posición p que va desde la base {S0} hasta la punta del marcador marcador {S4}:\n",
    "# Considerando que se logrará posicionar el gripper con las tres primeras variables articulares (q1,q2 y q3)\n",
    "\n",
    "p = T.A[:3,3]\n",
    "px, py, pz = p\n",
    "\n",
    "p_values = S5.A[:3,3]\n",
    "px_value, py_value, pz_value = p_values\n",
    "\n",
    "print('Posición del efector final respecto de la terna base:')\n",
    "print(f'- Px = {round(px_value,2)}')\n",
    "print(f'- Py = {round(py_value,2)}')\n",
    "print(f'- Pz = {round(pz_value,2)}')"
   ]
  },
  {
   "cell_type": "code",
   "execution_count": 19,
   "id": "247c79a4",
   "metadata": {},
   "outputs": [
    {
     "name": "stdout",
     "output_type": "stream",
     "text": [
      "Ángulos de Euler en grados (respecto a los vectores de la terna base) para orientar al efector final:\n",
      "Ángulo respecto X0: 90.0°\n",
      "Ángulo respecto Y0 (ángulo de interés): -74.0°\n",
      "Ángulo respecto Z0: 0.0°\n"
     ]
    }
   ],
   "source": [
    "# Con la última variable articular q4 se controla la orientación del efector final\n",
    "# En este caso, solo será posible manipular el ángulo de cabeceo (pitch) del robot\n",
    "\n",
    "# Por lo calculado en cinemática inversa, si el ángulo de cabeceo es 0, q4 tendrá un valor que mantendrá al efector final paralelo a la superficie\n",
    "# En caso contrario, el ángulo de cabeceo aportará en el cálculo de q4 para lograr la orientación deseada\n",
    "\n",
    "# Para obtener el ángulo de cabeceo es necesario convertir la matriz de rotación de {S0} a {S5} en ángulos de Euler\n",
    "# La composición de rotaciones seleccionada para los ángulos de Euler es XYZ (primero se rota en x, luego en y y finalmente en z)\n",
    "# Teniendo en cuenta que cada una de las rotaciones es realizada respecto a los ejes de la terna base {S0} (sistema fijo)\n",
    "\n",
    "# https://eecs.qmul.ac.uk/~gslabaugh/publications/euler.pdf\n",
    "if S5.A[2,0] != 1 and S5.A[2,0] != -1:\n",
    "    euler_angle_y = -sp.asin(S5.A[2,0])\n",
    "    # euler_angle_y_sol2 = sp.pi - euler_angle_y_sol1\n",
    "    \n",
    "    euler_angle_x = sp.atan2(S5.A[2,1]/sp.cos(euler_angle_y), S5.A[2,2]/sp.cos(euler_angle_y))\n",
    "    # euler_angle_x_sol2 = sp.atan2(S5.A[2,1]/sp.cos(euler_angle_y_sol2), S5.A[2,2]/sp.cos(euler_angle_y_sol2))\n",
    "    \n",
    "    euler_angle_z = sp.atan2(S5.A[1,0]/sp.cos(euler_angle_y), S5.A[0,0]/sp.cos(euler_angle_y))\n",
    "    # euler_angle_z_sol2 = sp.atan2(S5.A[1,0]/sp.cos(euler_angle_y_sol2), S5.A[0,0]/sp.cos(euler_euler_angle_y_sol2))\n",
    "else:\n",
    "    euler_angle_z = 0\n",
    "    \n",
    "    if S5.A[2,0] == -1:\n",
    "        euler_angle_y = sp.pi/2\n",
    "        euler_angle_x = euler_angle_z + sp.atan2(S5.A[0,1], S5.A[0,2])\n",
    "    else:\n",
    "        euler_angle_y = -sp.pi/2\n",
    "        euler_angle_x = -euler_angle_z + sp.atan2(-S5.A[0,1], -S5.A[0,2])\n",
    "\n",
    "euler_angle_x = degrees(euler_angle_x)\n",
    "euler_angle_y = degrees(euler_angle_y)\n",
    "euler_angle_z = degrees(euler_angle_z)\n",
    "\n",
    "print('Ángulos de Euler en grados (respecto a los vectores de la terna base) para orientar al efector final:')\n",
    "print(f'Ángulo respecto X0: {round(euler_angle_x,2)}°')\n",
    "print(f'Ángulo respecto Y0 (ángulo de interés): {round(euler_angle_y,2)}°') # Es la única orientación que podemos controlar con nuestro brazo robótico\n",
    "print(f'Ángulo respecto Z0: {round(euler_angle_z,2)}°')"
   ]
  },
  {
   "cell_type": "code",
   "execution_count": null,
   "id": "993db360",
   "metadata": {},
   "outputs": [],
   "source": []
  },
  {
   "cell_type": "code",
   "execution_count": null,
   "id": "1f62e4da",
   "metadata": {},
   "outputs": [],
   "source": []
  },
  {
   "cell_type": "code",
   "execution_count": null,
   "id": "3edd4bda",
   "metadata": {},
   "outputs": [],
   "source": []
  },
  {
   "cell_type": "code",
   "execution_count": null,
   "id": "0ebc2eeb",
   "metadata": {},
   "outputs": [],
   "source": []
  }
 ],
 "metadata": {
  "kernelspec": {
   "display_name": "Python 3 (ipykernel)",
   "language": "python",
   "name": "python3"
  },
  "language_info": {
   "codemirror_mode": {
    "name": "ipython",
    "version": 3
   },
   "file_extension": ".py",
   "mimetype": "text/x-python",
   "name": "python",
   "nbconvert_exporter": "python",
   "pygments_lexer": "ipython3",
   "version": "3.12.2"
  }
 },
 "nbformat": 4,
 "nbformat_minor": 5
}
