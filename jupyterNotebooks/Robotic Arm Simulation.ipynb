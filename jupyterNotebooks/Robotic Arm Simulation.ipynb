{
 "cells": [
  {
   "cell_type": "markdown",
   "id": "5c983381",
   "metadata": {},
   "source": [
    "<h3>Librerías a utilizar:</h3>"
   ]
  },
  {
   "cell_type": "code",
   "execution_count": 1,
   "id": "73d2b804",
   "metadata": {},
   "outputs": [],
   "source": [
    "from swift import Swift\n",
    "import roboticstoolbox as rtb\n",
    "from spatialmath import SE3\n",
    "import matplotlib.pyplot as plt\n",
    "from math import pi, degrees, radians\n",
    "import numpy as np\n",
    "\n",
    "%matplotlib qt"
   ]
  },
  {
   "cell_type": "code",
   "execution_count": 2,
   "id": "b9541cb1",
   "metadata": {
    "scrolled": false
   },
   "outputs": [
    {
     "name": "stdout",
     "output_type": "stream",
     "text": [
      "DHRobot: D&B Robot, 4 joints (RRRR), dynamics, standard DH parameters\n",
      "┌────────────┬───────┬────────┬───────┬──────┬────────┐\n",
      "│     θⱼ     │  dⱼ   │   aⱼ   │  ⍺ⱼ   │  q⁻  │   q⁺   │\n",
      "├────────────┼───────┼────────┼───────┼──────┼────────┤\n",
      "│  q1 - 90°  │ 0.206 │      0 │ 90.0° │ 0.0° │ 180.0° │\n",
      "│  q2        │     0 │ 0.3305 │  0.0° │ 0.0° │ 180.0° │\n",
      "│  q3 - 152° │     0 │ 0.3129 │  0.0° │ 0.0° │ 180.0° │\n",
      "│  q4        │     0 │  0.176 │  0.0° │ 0.0° │ 180.0° │\n",
      "└────────────┴───────┴────────┴───────┴──────┴────────┘\n",
      "\n",
      "┌──────┬───────────────────────────────────────┐\n",
      "│ tool │ t = 0, -0.15, 0; rpy/xyz = 0°, 0°, 0° │\n",
      "└──────┴───────────────────────────────────────┘\n",
      "\n",
      "┌──────┬──────┬──────┬─────┬──────┐\n",
      "│ name │ q0   │ q1   │ q2  │ q3   │\n",
      "├──────┼──────┼──────┼─────┼──────┤\n",
      "│ home │  90° │  90° │  0° │  62° │\n",
      "└──────┴──────┴──────┴─────┴──────┘\n",
      "\n",
      "Robot is in 1:50 scale.\n"
     ]
    }
   ],
   "source": [
    "# Define the lenghts\n",
    "l1 = 10.3\n",
    "l2 = 16.525\n",
    "l3 = 15.645\n",
    "l4 = 8.8\n",
    "l5 = 7.4\n",
    "\n",
    "# Adjust the lenghts to plot the robot properly with the library (otherwise, the axes are too small)\n",
    "# https://la.mathworks.com/matlabcentral/answers/485353-frames-not-appearing-using-robotics-system-toolbox\n",
    "scale_factor = 50\n",
    "l1 /= scale_factor\n",
    "l2 /= scale_factor\n",
    "l3 /= scale_factor\n",
    "l4 /= scale_factor\n",
    "l5 /= scale_factor\n",
    "\n",
    "# Notes:\n",
    "# 1. For a revolute joint the theta parameter of the link is ignored, and q used instead.\n",
    "# 2. For a prismatic joint the d parameter of the link is ignored, and q used instead.\n",
    "# 3. The joint offset parameter is added to q before computation of the transformation matrix.\n",
    "\n",
    "# Robot's links\n",
    "link1 = rtb.RevoluteDH(d=l1, a=0.0, alpha=pi/2, offset=-pi/2, qlim=[0,pi])\n",
    "link2 = rtb.RevoluteDH(d=0.0, a=l2, alpha=0.0, offset=0.0, qlim=[0,pi])\n",
    "link3 = rtb.RevoluteDH(d=0.0, a=l3, alpha=0.0, offset=-radians(152), qlim=[0,pi])\n",
    "link4 = rtb.RevoluteDH(d=0.0, a=l4, alpha=0.0, offset=0.0, qlim=[0,pi])\n",
    "\n",
    "# https://petercorke.github.io/robotics-toolbox-python/arm_dh.html#roboticstoolbox.robot.DHLink.PrismaticDH\n",
    "\n",
    "# Create the robot\n",
    "robot = rtb.DHRobot(\n",
    "    links=[link1, link2, link3, link4],\n",
    "    name=\"D&B Robot\",\n",
    "    tool = SE3.Ty(-l5)\n",
    "    )\n",
    "\n",
    "# Home angles\n",
    "q_home = [radians(90), radians(90), radians(0), radians(62)]\n",
    "\n",
    "# Set home position\n",
    "robot.addconfiguration_attr('home',q_home)\n",
    "\n",
    "print(robot)\n",
    "print(f'Robot is in 1:{scale_factor} scale.')"
   ]
  },
  {
   "cell_type": "code",
   "execution_count": 31,
   "id": "93e0d789",
   "metadata": {},
   "outputs": [],
   "source": [
    "# Plot home position\n",
    "fig1 = plt.figure(figsize=(8, 8))  # Adjust this for larger or smaller axes\n",
    "robot.plot(q=robot.home, backend='pyplot', fig = fig1)\n",
    "plt.show()"
   ]
  },
  {
   "cell_type": "code",
   "execution_count": 56,
   "id": "3c774fed",
   "metadata": {},
   "outputs": [
    {
     "name": "stdout",
     "output_type": "stream",
     "text": [
      "  \u001b[38;5;1m 1       \u001b[0m \u001b[38;5;1m 0       \u001b[0m \u001b[38;5;1m 0       \u001b[0m \u001b[38;5;4m 16.14   \u001b[0m  \u001b[0m\n",
      "  \u001b[38;5;1m 0       \u001b[0m \u001b[38;5;1m 0       \u001b[0m \u001b[38;5;1m-1       \u001b[0m \u001b[38;5;4m 0       \u001b[0m  \u001b[0m\n",
      "  \u001b[38;5;1m 0       \u001b[0m \u001b[38;5;1m 1       \u001b[0m \u001b[38;5;1m 0       \u001b[0m \u001b[38;5;4m 5.611   \u001b[0m  \u001b[0m\n",
      "  \u001b[38;5;244m 0       \u001b[0m \u001b[38;5;244m 0       \u001b[0m \u001b[38;5;244m 0       \u001b[0m \u001b[38;5;244m 1       \u001b[0m  \u001b[0m\n",
      "\n"
     ]
    }
   ],
   "source": [
    "# Compute the forward kinematics\n",
    "fk1 = robot.fkine(q_home)\n",
    "\n",
    "# Get the real coordinates\n",
    "fk1_escaled = SE3.Rt(fk1.R, fk1.t * scale_factor)\n",
    "# This SE3.Rt method takes a rotation matrix R and a translation vector t and creates the desired SE(3) transformation\n",
    "\n",
    "print(fk1_escaled)"
   ]
  },
  {
   "cell_type": "code",
   "execution_count": null,
   "id": "f3525d9a",
   "metadata": {},
   "outputs": [],
   "source": []
  }
 ],
 "metadata": {
  "kernelspec": {
   "display_name": "Python 3 (ipykernel)",
   "language": "python",
   "name": "python3"
  },
  "language_info": {
   "codemirror_mode": {
    "name": "ipython",
    "version": 3
   },
   "file_extension": ".py",
   "mimetype": "text/x-python",
   "name": "python",
   "nbconvert_exporter": "python",
   "pygments_lexer": "ipython3",
   "version": "3.12.2"
  }
 },
 "nbformat": 4,
 "nbformat_minor": 5
}
