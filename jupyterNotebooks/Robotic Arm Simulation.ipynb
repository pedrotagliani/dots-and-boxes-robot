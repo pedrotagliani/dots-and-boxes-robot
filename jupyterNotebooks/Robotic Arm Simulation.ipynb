{
 "cells": [
  {
   "cell_type": "markdown",
   "id": "5c983381",
   "metadata": {},
   "source": [
    "<h3>Import libraries:</h3>"
   ]
  },
  {
   "cell_type": "code",
   "execution_count": 21,
   "id": "73d2b804",
   "metadata": {},
   "outputs": [],
   "source": [
    "from swift import Swift\n",
    "import roboticstoolbox as rtb\n",
    "from spatialmath import SE3\n",
    "import matplotlib.pyplot as plt\n",
    "from math import pi, degrees, radians\n",
    "import numpy as np\n",
    "from spatialmath.base import tr2rpy\n",
    "from mpl_toolkits.mplot3d import Axes3D\n",
    "\n",
    "# https://stackoverflow.com/questions/44116194/import-a-function-from-another-ipynb-file\n",
    "from ipynb.fs.full.inverse_kinematics_dnb_robot import *\n",
    "\n",
    "%matplotlib qt"
   ]
  },
  {
   "cell_type": "markdown",
   "id": "39bcc6c2",
   "metadata": {},
   "source": [
    "<h3>Define the robot:</h3>"
   ]
  },
  {
   "cell_type": "code",
   "execution_count": 2,
   "id": "b9541cb1",
   "metadata": {
    "scrolled": false
   },
   "outputs": [
    {
     "name": "stdout",
     "output_type": "stream",
     "text": [
      "DHRobot: D&B Robot, 4 joints (RRRR), dynamics, standard DH parameters\n",
      "┌────────────┬───────┬────────┬───────┬──────┬────────┐\n",
      "│     θⱼ     │  dⱼ   │   aⱼ   │  ⍺ⱼ   │  q⁻  │   q⁺   │\n",
      "├────────────┼───────┼────────┼───────┼──────┼────────┤\n",
      "│  q1 - 90°  │ 0.206 │      0 │ 90.0° │ 0.0° │ 180.0° │\n",
      "│  q2        │     0 │ 0.3305 │  0.0° │ 0.0° │ 180.0° │\n",
      "│  q3 - 152° │     0 │ 0.3129 │  0.0° │ 0.0° │ 180.0° │\n",
      "│  q4        │     0 │  0.176 │  0.0° │ 0.0° │ 180.0° │\n",
      "└────────────┴───────┴────────┴───────┴──────┴────────┘\n",
      "\n",
      "┌──────┬───────────────────────────────────────┐\n",
      "│ tool │ t = 0, -0.15, 0; rpy/xyz = 0°, 0°, 0° │\n",
      "└──────┴───────────────────────────────────────┘\n",
      "\n",
      "┌──────┬──────┬──────┬─────┬──────┐\n",
      "│ name │ q0   │ q1   │ q2  │ q3   │\n",
      "├──────┼──────┼──────┼─────┼──────┤\n",
      "│ home │  90° │  90° │  0° │  62° │\n",
      "└──────┴──────┴──────┴─────┴──────┘\n",
      "\n",
      "Robot is in 1:50 scale.\n"
     ]
    }
   ],
   "source": [
    "# Define the lenghts\n",
    "l1 = 10.3\n",
    "l2 = 16.525\n",
    "l3 = 15.645\n",
    "l4 = 8.8\n",
    "l5 = 7.4\n",
    "\n",
    "# Adjust the lenghts to plot the robot properly with the library (otherwise, the axes are too small)\n",
    "# https://la.mathworks.com/matlabcentral/answers/485353-frames-not-appearing-using-robotics-system-toolbox\n",
    "scaleFactor = 50\n",
    "\n",
    "l1 /= scaleFactor\n",
    "l2 /= scaleFactor\n",
    "l3 /= scaleFactor\n",
    "l4 /= scaleFactor\n",
    "l5 /= scaleFactor\n",
    "\n",
    "# Notes:\n",
    "# 1. For a revolute joint the theta parameter of the link is ignored, and q used instead.\n",
    "# 2. For a prismatic joint the d parameter of the link is ignored, and q used instead.\n",
    "# 3. The joint offset parameter is added to q before computation of the transformation matrix.\n",
    "\n",
    "# Robot's links\n",
    "link1 = rtb.RevoluteDH(d=l1, a=0.0, alpha=pi/2, offset=-pi/2, qlim=[0,pi])\n",
    "link2 = rtb.RevoluteDH(d=0.0, a=l2, alpha=0.0, offset=0.0, qlim=[0,pi])\n",
    "link3 = rtb.RevoluteDH(d=0.0, a=l3, alpha=0.0, offset=-radians(152), qlim=[0,pi])\n",
    "link4 = rtb.RevoluteDH(d=0.0, a=l4, alpha=0.0, offset=0.0, qlim=[0,pi])\n",
    "\n",
    "# https://petercorke.github.io/robotics-toolbox-python/arm_dh.html#roboticstoolbox.robot.DHLink.PrismaticDH\n",
    "\n",
    "# Create the robot\n",
    "robot = rtb.DHRobot(\n",
    "    links=[link1, link2, link3, link4],\n",
    "    name=\"D&B Robot\",\n",
    "    tool = SE3.Ty(-l5)\n",
    "    )\n",
    "\n",
    "# Home angles\n",
    "qHome = [radians(90), radians(90), radians(0), radians(62)]\n",
    "\n",
    "# Set home position\n",
    "robot.addconfiguration_attr('home',qHome)\n",
    "\n",
    "print(robot)\n",
    "print(f'Robot is in 1:{scaleFactor} scale.')"
   ]
  },
  {
   "cell_type": "code",
   "execution_count": 3,
   "id": "93e0d789",
   "metadata": {},
   "outputs": [],
   "source": [
    "# Plot home position\n",
    "fig1 = plt.figure(figsize=(8, 8))  # Adjust this for larger or smaller axes\n",
    "robot.plot(q=robot.home, backend='pyplot', fig = fig1)\n",
    "plt.show()"
   ]
  },
  {
   "cell_type": "markdown",
   "id": "f9a63a38",
   "metadata": {},
   "source": [
    "<h3>Kinematics tests:</h3>"
   ]
  },
  {
   "cell_type": "code",
   "execution_count": 4,
   "id": "3c774fed",
   "metadata": {},
   "outputs": [
    {
     "name": "stdout",
     "output_type": "stream",
     "text": [
      "  \u001b[38;5;1m 1       \u001b[0m \u001b[38;5;1m 0       \u001b[0m \u001b[38;5;1m 0       \u001b[0m \u001b[38;5;4m 16.14   \u001b[0m  \u001b[0m\n",
      "  \u001b[38;5;1m 0       \u001b[0m \u001b[38;5;1m 0       \u001b[0m \u001b[38;5;1m-1       \u001b[0m \u001b[38;5;4m 0       \u001b[0m  \u001b[0m\n",
      "  \u001b[38;5;1m 0       \u001b[0m \u001b[38;5;1m 1       \u001b[0m \u001b[38;5;1m 0       \u001b[0m \u001b[38;5;4m 5.611   \u001b[0m  \u001b[0m\n",
      "  \u001b[38;5;244m 0       \u001b[0m \u001b[38;5;244m 0       \u001b[0m \u001b[38;5;244m 0       \u001b[0m \u001b[38;5;244m 1       \u001b[0m  \u001b[0m\n",
      "\n"
     ]
    }
   ],
   "source": [
    "# Compute the forward kinematics\n",
    "fk1 = robot.fkine(qHome)\n",
    "\n",
    "# Get the real coordinates\n",
    "fk1Escaled = SE3.Rt(fk1.R, fk1.t * scaleFactor)\n",
    "# This SE3.Rt method takes a rotation matrix R and a translation vector t and creates the desired SE(3) transformation\n",
    "\n",
    "print(fk1Escaled)"
   ]
  },
  {
   "cell_type": "code",
   "execution_count": 5,
   "id": "f3525d9a",
   "metadata": {},
   "outputs": [
    {
     "name": "stdout",
     "output_type": "stream",
     "text": [
      "q1 = 90.0°.\n",
      "q2 = 90.0°.\n",
      "q3 = 0.0°.\n",
      "q4 = 62.0°.\n"
     ]
    }
   ],
   "source": [
    "# Compute the inverse kinematics\n",
    "ik1 = robot.ikine_LM(fk1, joint_limits = True)\n",
    "\n",
    "for i in range(len(ik1.q)):\n",
    "    print(f'q{i+1} = {round(degrees(ik1.q[i]),2)}°.')"
   ]
  },
  {
   "cell_type": "code",
   "execution_count": 6,
   "id": "e42f5bc6",
   "metadata": {},
   "outputs": [
    {
     "name": "stdout",
     "output_type": "stream",
     "text": [
      "q1: 90.0°.\n",
      "q2: 90.0°.\n",
      "q3: 0.0°.\n",
      "q4: 62.0°.\n"
     ]
    }
   ],
   "source": [
    "# We'll use our own inverse kinematics function which gives us easier control of the end effector's orientation\n",
    "\n",
    "pxHome = fk1.A[:,3][0]\n",
    "pyHome = fk1.A[:,3][1]\n",
    "pzHome = fk1.A[:,3][2]\n",
    "\n",
    "# The orientation of the end effector is defined with respect to the base frame (only the pitch angle can be controlled)\n",
    "pitchAngle = radians(0)\n",
    "\n",
    "qList = inverse_kinematics(pxHome, pyHome, pzHome, pitchAngle, scaleFactor)\n",
    "\n",
    "for index,q in enumerate(qList):\n",
    "    print(f'q{index+1}: {q}°.')"
   ]
  },
  {
   "cell_type": "code",
   "execution_count": 7,
   "id": "97a7c506",
   "metadata": {},
   "outputs": [
    {
     "name": "stdout",
     "output_type": "stream",
     "text": [
      "Joint angles required to achieve the pose (orientation and translation) of frame1:\n",
      "[66.66, 51.15, 16.45, 84.39]\n",
      "\n",
      "Homogeneous transformation matrix (HTM) of {frame1} with respect to the base frame {0}:\n",
      "  \u001b[38;5;1m 0.9182  \u001b[0m \u001b[38;5;1m 0.0001603\u001b[0m \u001b[38;5;1m-0.3962  \u001b[0m \u001b[38;5;4m 0.38    \u001b[0m  \u001b[0m\n",
      "  \u001b[38;5;1m-0.3962  \u001b[0m \u001b[38;5;1m-6.915e-05\u001b[0m \u001b[38;5;1m-0.9182  \u001b[0m \u001b[38;5;4m-0.164   \u001b[0m  \u001b[0m\n",
      "  \u001b[38;5;1m-0.0001745\u001b[0m \u001b[38;5;1m 1       \u001b[0m \u001b[38;5;1m 0       \u001b[0m \u001b[38;5;4m 0.003953\u001b[0m  \u001b[0m\n",
      "  \u001b[38;5;244m 0       \u001b[0m \u001b[38;5;244m 0       \u001b[0m \u001b[38;5;244m 0       \u001b[0m \u001b[38;5;244m 1       \u001b[0m  \u001b[0m\n",
      "\n",
      "Euler angles in the ZYX convention with respect to the mobile/current frame:\n",
      "- Roll: 90.0°.\n",
      "- Pitch: 0.01°.\n",
      "- Yaw: -23.34°.\n"
     ]
    }
   ],
   "source": [
    "# Traslation vector and pitch angle for frame1\n",
    "pxFrame1 = 19/scaleFactor\n",
    "pyFrame1 = -8.2/scaleFactor\n",
    "pzFrame1 = 0.2/scaleFactor\n",
    "pitchAngleFrame1 = radians(0)\n",
    "\n",
    "# Its orientation needs to be determined; it's only known that the pitch angle, in the RPY convention, is equal to zero (parallel to the surface)\n",
    "qFrame1 = inverse_kinematics(pxFrame1, pyFrame1, pzFrame1, pitchAngleFrame1, scaleFactor)\n",
    "TFrame1 = robot.fkine([radians(i) for i in qFrame1])\n",
    "\n",
    "print('Joint angles required to achieve the pose (orientation and translation) of frame1:')\n",
    "print(qFrame1)\n",
    "\n",
    "print('\\nHomogeneous transformation matrix (HTM) of {frame1} with respect to the base frame {0}:')\n",
    "print(TFrame1)\n",
    "\n",
    "# Extract RPY angles (mobile/current frame, ZYX convention)\n",
    "rpyFrame1 = tr2rpy(TFrame1.R, order='zyx', unit='deg')\n",
    "\n",
    "print('Euler angles in the ZYX convention with respect to the mobile/current frame:')\n",
    "print(f'- Roll: {round(rpyFrame1[0],2)}°.')\n",
    "print(f'- Pitch: {round(rpyFrame1[1],2)}°.')\n",
    "print(f'- Yaw: {round(rpyFrame1[2],2)}°.')\n",
    "\n",
    "# mobile/current frame, ZYX convention = fixed frame, XYZ convention\n",
    "# https://mecademic.com/insights/academic-tutorials/space-orientation-euler-angles/\n",
    "# https://bdaiinstitute.github.io/spatialmath-python/func_3d.html#spatialmath.base.transforms3d.tr2rpy"
   ]
  },
  {
   "cell_type": "code",
   "execution_count": null,
   "id": "74f6389a",
   "metadata": {},
   "outputs": [],
   "source": []
  },
  {
   "cell_type": "code",
   "execution_count": null,
   "id": "186f3a7e",
   "metadata": {},
   "outputs": [],
   "source": []
  },
  {
   "cell_type": "code",
   "execution_count": null,
   "id": "46e3dca5",
   "metadata": {},
   "outputs": [],
   "source": []
  },
  {
   "cell_type": "code",
   "execution_count": null,
   "id": "6ce566b7",
   "metadata": {},
   "outputs": [],
   "source": []
  },
  {
   "cell_type": "code",
   "execution_count": null,
   "id": "f3f1f7b0",
   "metadata": {},
   "outputs": [],
   "source": []
  },
  {
   "cell_type": "code",
   "execution_count": null,
   "id": "4d77ba36",
   "metadata": {},
   "outputs": [],
   "source": []
  },
  {
   "cell_type": "markdown",
   "id": "043850f4",
   "metadata": {},
   "source": [
    "<h3>Trajectory test:</h3>"
   ]
  },
  {
   "cell_type": "code",
   "execution_count": 8,
   "id": "e5fe9997",
   "metadata": {},
   "outputs": [],
   "source": [
    "# https://petercorke.github.io/robotics-toolbox-python/arm_trajectory.html#roboticstoolbox.tools.trajectory.trapezoidal\n",
    "\n",
    "# https://la.mathworks.com/help/robotics/ref/trapveltraj.html\n",
    "# https://la.mathworks.com/help/robotics/ug/choose-trajectories-for-manipulator-paths.html\n",
    "# https://la.mathworks.com/help/robotics/ug/design-a-trajectory-with-velocity-limits-using-a-trapezoidal-velocity-profile.html\n",
    "# https://medium.com/mathworks/trajectory-planning-for-robot-manipulators-522404efb6f0\n",
    "\n",
    "# https://www.youtube.com/watch?v=f3JVWqsDhbE\n",
    "# https://youtu.be/Fd7wjZDoh7g?si=Hia8kw2mjwnycN0J\n",
    "\n",
    "# Servomotor MG996R ----> Operating speed: 0.17 s/60º (4.8 V), 0.14 s/60º (6 V) \n",
    "# 0.14 s/60º (6 V) --------> 7,14 °/s (max speed)\n",
    "\n",
    "# Set the time required to complete the trajectory\n",
    "timeStepsTraj1 = 100\n",
    "totalTime = 10 # Seconds\n",
    "timeTraj1 = np.linspace(0, totalTime, timeStepsTraj1)"
   ]
  },
  {
   "cell_type": "code",
   "execution_count": 9,
   "id": "0c4903fa",
   "metadata": {},
   "outputs": [],
   "source": [
    "# Compute the trajectory using a trapezoidal velocity profile\n",
    "# tg = rtb.tools.trapezoidal(pxHome*scaleFactor, pxFrame1*scaleFactor, timeTraj1)\n",
    "# tg.plot()\n",
    "\n",
    "# Generate the trajectory using a trapezoidal interpolator\n",
    "q0Traj1 = [i*scaleFactor for i in [pxHome, pyHome, pzHome]]\n",
    "q1Traj1 = [i*scaleFactor for i in [pxFrame1, pyFrame1, pzFrame1]]\n",
    "Traj1 = rtb.tools.trajectory.mtraj(rtb.tools.trapezoidal, q0Traj1, q1Traj1, timeTraj1)\n",
    "\n",
    "# Plot the position, velocity and acceleration data of the trajectory\n",
    "Traj1.plot()"
   ]
  },
  {
   "cell_type": "code",
   "execution_count": 23,
   "id": "a10ae04a",
   "metadata": {},
   "outputs": [],
   "source": [
    "# Create a new figure for 3D plotting\n",
    "fig2 = plt.figure()\n",
    "ax = fig2.add_subplot(111, projection='3d')\n",
    "\n",
    "# Plot the 3D trajectory in the workspace\n",
    "ax.plot(Traj1.s[:,0], Traj1.s[:,1], Traj1.s[:,2], label='3D Line')\n",
    "\n",
    "# Add labels and title\n",
    "ax.set_xlabel('X Label')\n",
    "ax.set_ylabel('Y Label')\n",
    "ax.set_zlabel('Z Label')\n",
    "ax.set_title('Task-space trajectory')\n",
    "\n",
    "# Show the plot\n",
    "plt.show()\n",
    "\n",
    "# We got a line in the cartesian space using a trapezoidal interpolator"
   ]
  },
  {
   "cell_type": "code",
   "execution_count": 27,
   "id": "b8820f9f",
   "metadata": {},
   "outputs": [],
   "source": [
    "# Let's repeat the same process using a quintic polynomial interpolator\n",
    "\n",
    "# Generate the trajectory using a quintic polynomial interpolator\n",
    "Traj1v2 = rtb.tools.trajectory.mtraj(rtb.tools.quintic, q0Traj1, q1Traj1, timeTraj1)\n",
    "\n",
    "# Plot the position, velocity and acceleration data of the trajectory\n",
    "Traj1v2.plot()"
   ]
  },
  {
   "cell_type": "code",
   "execution_count": 26,
   "id": "c1c17eef",
   "metadata": {},
   "outputs": [],
   "source": [
    "# Create a new figure for 3D plotting\n",
    "fig3 = plt.figure()\n",
    "ax = fig3.add_subplot(111, projection='3d')\n",
    "\n",
    "# Plot the 3D trajectory in the workspace\n",
    "ax.plot(Traj1v2.s[:,0], Traj1v2.s[:,1], Traj1v2.s[:,2], label='3D Line')\n",
    "\n",
    "# Add labels and title\n",
    "ax.set_xlabel('X Label')\n",
    "ax.set_ylabel('Y Label')\n",
    "ax.set_zlabel('Z Label')\n",
    "ax.set_title('Task-space trajectory')\n",
    "\n",
    "# Show the plot\n",
    "plt.show()\n",
    "\n",
    "# We got a line in the cartesian space using a quintic polynomial interpolator"
   ]
  },
  {
   "cell_type": "code",
   "execution_count": 18,
   "id": "1fb51cc4",
   "metadata": {},
   "outputs": [],
   "source": [
    "# Let's do it again with initial and final velocity different from zero (impractical in this case, it's just for testing)\n",
    "\n",
    "# Set the velocities (they could be different for each axis)\n",
    "dq0Traj1v3 = 0.5\n",
    "dq1Traj1v3 = 1\n",
    "\n",
    "Traj1v3x = rtb.tools.trajectory.quintic(q0Traj1[0], q1Traj1[0], timeTraj1, dq0Traj1v3, dq1Traj1v3)\n",
    "Traj1v3y = rtb.tools.trajectory.quintic(q0Traj1[1], q1Traj1[1], timeTraj1, dq0Traj1v3, dq1Traj1v3)\n",
    "Traj1v3z = rtb.tools.trajectory.quintic(q0Traj1[2], q1Traj1[2], timeTraj1, dq0Traj1v3, dq1Traj1v3)\n",
    "\n",
    "# Create a new figure for 3D plotting\n",
    "fig4 = plt.figure()\n",
    "ax = fig4.add_subplot(111, projection='3d')\n",
    "\n",
    "# Plot the 3D trajectory in the workspace\n",
    "ax.plot(Traj1v3x.s, Traj1v3y.s, Traj1v3z.s, label='3D Line')\n",
    "\n",
    "# Add labels and title\n",
    "ax.set_xlabel('X Label')\n",
    "ax.set_ylabel('Y Label')\n",
    "ax.set_zlabel('Z Label')\n",
    "ax.set_title('Task-space trajectory')\n",
    "\n",
    "# Show the plot\n",
    "plt.show()\n",
    "\n",
    "# We don't get a line in the cartesian space using a polynomial interpolator if the initial and final velocities are different from zero\n",
    "# This also happens between viapoints"
   ]
  },
  {
   "cell_type": "code",
   "execution_count": 19,
   "id": "ad1354f2",
   "metadata": {},
   "outputs": [],
   "source": [
    "# We've only interpolated the position of the robot, but it's also required an orientation interpolation\n",
    "# Position and orientation interpolation are two different issues, therefore they're done separately\n",
    "\n",
    "# https://petercorke.github.io/robotics-toolbox-python/arm_trajectory.html#roboticstoolbox.tools.trajectory.ctraj\n",
    "# We'll handle position and orientation interpolation through the ctraj function\n",
    "\n",
    "# Set the time required to complete the trajectory\n",
    "timeStepsTraj2 = 100\n",
    "totalTime2 = 10 # Seconds\n",
    "timeTraj2 = np.linspace(0, totalTime, timeStepsTraj1)\n",
    "\n",
    "# Compute the Cartesian trajectory between two poses (position + orientation)\n",
    "Traj2 = rtb.tools.trajectory.ctraj(fk1, TFrame1, timeTraj2)\n",
    "\n",
    "# Afterwards, compute the inverse kinematics for each pose along the trajectory\n",
    "# These joint configurations can be fed into a control system to execute and control the movements of the robotic arm"
   ]
  },
  {
   "cell_type": "markdown",
   "id": "61678542",
   "metadata": {},
   "source": [
    "<h3>Resolved-Rate Motion Control:</h3>"
   ]
  },
  {
   "cell_type": "code",
   "execution_count": null,
   "id": "05733160",
   "metadata": {},
   "outputs": [],
   "source": []
  }
 ],
 "metadata": {
  "kernelspec": {
   "display_name": "Python 3 (ipykernel)",
   "language": "python",
   "name": "python3"
  },
  "language_info": {
   "codemirror_mode": {
    "name": "ipython",
    "version": 3
   },
   "file_extension": ".py",
   "mimetype": "text/x-python",
   "name": "python",
   "nbconvert_exporter": "python",
   "pygments_lexer": "ipython3",
   "version": "3.12.2"
  }
 },
 "nbformat": 4,
 "nbformat_minor": 5
}
